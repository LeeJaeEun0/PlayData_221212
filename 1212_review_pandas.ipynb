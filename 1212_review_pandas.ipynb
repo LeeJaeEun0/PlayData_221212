{
 "cells": [
  {
   "cell_type": "markdown",
   "id": "122e9f06",
   "metadata": {},
   "source": [
    "## 데이터 프레임의 합성\n",
    "* concat, join, merge\n",
    "* concat: concatenate(연결 - 행 또는 열의 모양이 일치하는 두 데이터 프레임 간의 연결)"
   ]
  },
  {
   "cell_type": "markdown",
   "id": "678e368a",
   "metadata": {},
   "source": [
    "###  merge, join(특정한 열또는 인덱스를 통한 연결)\n",
    "* merge, join: 특정한 키(열)을 기준으로 다른 모양의 두 데이터프레임을 합침.\n",
    "    1. 두 개의 데이터프레임이 같은 숫자의 행(서로 완벽히 매치가 되는!)을 가지고, 1개의 키값을 가졌을때(1:1)\n",
    "    2. 두 개의 데이터 프레임의 키로 사용하는 열이 공통의 원소를 가질때(원소의 갯수의 차이), 원소의 개수가 차이 있을때(1:m)\n",
    "    3. 한쪽의 데이터프레임에는 있고 다른 데이터프레임에는 없을때!(pd.merge(left,right, how))\n",
    "        * inner join: 두 데이터 프레임에 `모두` 존재하면 출력\n",
    "        * (full) outer join: `한쪽의 데이터 프레임에라도` 존재하면 출력\n",
    "        * left(outer)join, right(outer)join: 지정된 위치의 데이터 프레임에 존재하면 출력\n",
    "            * 게시판: 게시판-댓글(게시물 삭제 -> 댓글도 삭제)\n",
    "    * `on` 연결을 할 때 기준이 되는 열을 조작해야 한다, 특정한키(열 이름). 키의 리스트(left_on, right_on 으로 이름 다른 것도 연결해줄 수 있음)\n",
    "    * 연결 기준이 되는 인덱스 쪽으로 방향_index=True\n",
    "* df.join()\n",
    "    * 연결을 행 단위로 연결(인덱스가 겹치는 경우)\n",
    "    * 데이터프레임이 left 역활을 함.\n",
    "    * merge를 더 많이 사용"
   ]
  },
  {
   "cell_type": "markdown",
   "id": "8877daaf",
   "metadata": {},
   "source": [
    "### concat(기준열없이 합치려는 방향의 모양이 같으면 된다.)\n",
    "* numpy에서 concatenate, vstack, hstack, dstack 등과 유사함.\n",
    "* `pd.concat([...])`: 힙치려고하는 유사 모양의 데이터프레임, 시리즈를 리스트로 넣어줌.\n",
    "* axis=0 위에서 아래 방향으로, axis=1 왼쪽에서 오른쪽 방향으로"
   ]
  },
  {
   "cell_type": "markdown",
   "id": "a9801422",
   "metadata": {},
   "source": [
    "## 피봇테이블 & 그룹 분석\n",
    "### 피봇테이블\n",
    "* 여러개의 열 중 2개를 선택해서 해당열을 기준으로 그룹으로 묶어서 데이터를 표시\n",
    "* df.pivot(('행 인덱스 지정할 열 이름','열 인덱스로 지정할 열 이름','묶어서 표현할 데이터 열 이름')\n",
    "    * 인덱스 별로 배치했는데 해당하는 값이 없으면 NaN\n",
    "    * 조건을 만족시키는 데이터가 2개 이상 - > 오류 발생\n",
    "    * 그룹분석을 통해 피봇테이블 생성할 수 있음\n",
    "    \n",
    "### 그룹분석\n",
    "* 특정한 범주나 특정한 조건을 만족시키는 데이터(행)이 하나 이상일 경우, 데이터 그룹으로 지정할 수 있음\n",
    "* 데이터그룹 -> 그룹에 특성을 보여줄 수 있는 하나의 값을 통해 해당 그룹을 나타내는 것\n",
    "    1. 분류 groupby\n",
    "    2. 계산 agg, 그룹 함수 등\n",
    "* `df.groupby(열이나 열의 리스트)`: 넣어준 인자를 기준으로 그룹이 나뉨\n",
    "* `DataFrameGroupBy` => .groups: 어떠한 기준으로 그룹이 나뉘어져있는지(행인덱스)\n",
    "    => count, mean, sum, ...\n",
    "* `df.groupby(...).agg().열이름`-> 시리즈\n",
    "* 복합키: `df.grouupby([열 2개 이상])`: 2개 이상의 조건으로 세부 조건을 지정\n",
    "    * `.unstack`: 묶여져 있는 컬럼제거\n",
    "    * `.agg`: 본인이 필요한 그룹함수가 없을때 직접 정의해서 사용할 수 있음\n",
    "        * 함수로 정의해서 (한 개의 인수 -> 그 인수가 그룹을 의미하는) \n",
    "        * lambda (익명함수) 사용\n",
    "    * `.apply`: 그룹으로 묶은 행(열)을 대상으로 반복적인 연산\n",
    "        * 그룹1, 그룹2, 그룹3 -> 그룹`간` 연산, 그룹간 반복 연산(그룹내 연산 X)\n",
    "        "
   ]
  },
  {
   "cell_type": "markdown",
   "id": "adf386b1",
   "metadata": {},
   "source": [
    "## 시계열 자료 다루기\n",
    "* 시계열 데이터: `시간의 변화`에 따라서 데이터의 변화가 발생\n",
    "    * 주식 가격, 환율 등\n",
    "* 행 인덱스 자체를 시계열 기반 인덱스\n",
    "* .loc[], [] : 특정한 기준에 따른 연산과 필터링\n",
    "* ` pd.to_datetime`: 날짜 형식(포맷)으로 표현된 데이터들을 DatetimeIndex로 변환\n",
    "* `pd.date_range`: `range`, `arange`,... 특정한 규칙(시작과 끝/시작. 개수)을 바탕으로 연속된 시계열 인덱스\n",
    "    * `freq`: frequency(빈도)- D, M, H 등을 통해 중간의 갯수\n",
    "* shift\n",
    "    * 인덱스를 옮김\n",
    "        freq 설정을 통해서\n",
    "    * 인덱스(순서)의 변화는 없지만 연속된 데이터의 위치를 변화\n",
    "        데이터가 전개되는 방향: 위에서 아래로 + <=> 아래에서 위로 -\n",
    "* resample 연산\n",
    "    * 데이터의 시간 단위(빈도)를 바꿔주는 것\n",
    "    * 시간의 빈도를 늘리거나(upsampling), 줄이는 것(downsampling)\n",
    "    * 시간의 구간을 작게 만들면 행이 늘어남에 따라 빈 곳을 어떻게 채울까?(업샘플링)\n",
    "        * ffil(forward_fill)/bfill(backward_fill)\n",
    "            * 00 => 30 : 00,10,20,30에서 ffill: 00, bfill: 30\n",
    "    * 시간의 구간을 크게 만들면 행이 줄어들어 데이터를 어떻게 합칠까? (다운 샘플링)\n",
    "        * 시간 단위를 키운다(하루-> 한달로)로 대표값을 통해서 통계적 작업, 평균, 최빈값 => first, last 위치 기준으로 표시\n",
    "* `dt`: 인덱스, 열을 datetime으로 되어 있으면 해당 날짜/시간을 처리할 수 있는 메소드를 호출해주는 속성. \n",
    "    * s.dt.year, s.dt.month - 날짜와 관련된 연,월,일 출력 \n",
    "    * s.dt.strftime(...) - 특정한 포맷에 맞춰서 날짜를 표현"
   ]
  },
  {
   "cell_type": "code",
   "execution_count": null,
   "id": "2f44db6b",
   "metadata": {},
   "outputs": [],
   "source": []
  }
 ],
 "metadata": {
  "kernelspec": {
   "display_name": "Python 3 (ipykernel)",
   "language": "python",
   "name": "python3"
  },
  "language_info": {
   "codemirror_mode": {
    "name": "ipython",
    "version": 3
   },
   "file_extension": ".py",
   "mimetype": "text/x-python",
   "name": "python",
   "nbconvert_exporter": "python",
   "pygments_lexer": "ipython3",
   "version": "3.9.13"
  }
 },
 "nbformat": 4,
 "nbformat_minor": 5
}
