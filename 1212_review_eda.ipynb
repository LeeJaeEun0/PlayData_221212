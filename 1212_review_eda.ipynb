{
 "cells": [
  {
   "cell_type": "markdown",
   "id": "a51e26ae",
   "metadata": {},
   "source": [
    "# 시각화/EDA"
   ]
  },
  {
   "cell_type": "markdown",
   "id": "0b901d9a",
   "metadata": {},
   "source": [
    "## Matplotlib\n",
    "* 파이썬의 시각화를 위해서 쓰이는 패키지 -> seaborn, plotly 등 새로운 패키지에 밀림\n",
    "* 다른 패키지들이 이 패키지를 기반으로 동작하는 경우가 많음\n",
    "* import matplotlib.pyplot as plt \n",
    "* 주피터 노트북의 경우 (코랩에서는 사용하지 않음)\n",
    "    %mapplotlib inline"
   ]
  },
  {
   "cell_type": "markdown",
   "id": "e5351d41",
   "metadata": {},
   "source": [
    "### 한글 폰트문제 해결\n",
    "* 한글 폰트 사용\n",
    "    * 주피터, 코랩 -> 한글 폰트 지원\n",
    "    * 코랩에서는 밑에 있는 코드 실행후 -> 런타임 재시작 (Ctrl + M .)\n",
    "    * !sudo apt-get install -y fonts-nanum\n",
    "    *!sudo fc-cache -fv\n",
    "    * !rm ~/.cache/matplotlib -rf\n",
    "    * 기본 폰트를 나눔바른고딕으로 세팅\n",
    "    * import matplotlib.pyplot as plt\n",
    "    * plt.rc('font', family='NanumBarunGothic')"
   ]
  },
  {
   "cell_type": "markdown",
   "id": "40fd7f73",
   "metadata": {},
   "source": [
    "### 실사용 예시\n",
    "* plt.title(\"중앙상단에 타이틀 표시\")\n",
    "* plt.(표시하고 싶은 차트/플롯 종류에 따른 메소드)(... 설정값)\n",
    "* plt.show() # plt를 표시하겠다 - 필수는 아니지만 해주는 것이 좋다.\n",
    "> 예시<br>\n",
    "    plt.title('제목')<br>\n",
    "    plt.plot([10, 20, 30, 40], [1, 4, 9, 16]) # 선 차트<br>\n",
    "    plt.xlabel('x축 라벨') # x축에 제목 표시<br>\n",
    "    plt.ylabel('y축 라벨') # y축에 제목 표시<br>\n",
    "    plt.show()\n",
    "    \n",
    "* plt.plot(x축데이터, y축데이터, (스타일)) \n",
    "    *반복적으로 값을 넣어서 표현 가능\n",
    "    *plot 자체를 반복하고 마지막에 plt.show()를 통해 한 플롯에 표현 가능\n",
    "    \n",
    "* 2개 이상 겹쳤을 경우\n",
    "    * plt.plot(...,label='플롯별 이름')\n",
    "    * plt.legend(loc=?)\n",
    "        0 = 가장 적당한 위치 자동, 1-10 설정가능\n",
    "* 시각화 이미지가 만들어질때마다 사용되는 객체\n",
    "    * fig = plt.figure(figsize=(가로길이, 새로길이))\n",
    "    * 시각화 하려는 이미지의 크기 (가로폭, 세로폭)\n",
    "    \n",
    "* 2개 이상의 차트를 변형해서 나타내는 경우\n",
    "    * plt.subplot(행의 갯수, 열의 갯수, 플롯의 순서) # , 를 생략할 수 있다\n",
    "    * plt.tight_layout() # 플롯 간의 겹침을 방지"
   ]
  },
  {
   "cell_type": "code",
   "execution_count": null,
   "id": "b8978bba",
   "metadata": {},
   "outputs": [],
   "source": []
  }
 ],
 "metadata": {
  "kernelspec": {
   "display_name": "Python 3 (ipykernel)",
   "language": "python",
   "name": "python3"
  },
  "language_info": {
   "codemirror_mode": {
    "name": "ipython",
    "version": 3
   },
   "file_extension": ".py",
   "mimetype": "text/x-python",
   "name": "python",
   "nbconvert_exporter": "python",
   "pygments_lexer": "ipython3",
   "version": "3.9.13"
  }
 },
 "nbformat": 4,
 "nbformat_minor": 5
}
